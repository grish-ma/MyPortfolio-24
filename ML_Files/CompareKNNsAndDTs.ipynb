{
 "cells": [
  {
   "cell_type": "markdown",
   "metadata": {},
   "source": [
    "# Lab 3: ML Life Cycle: Modeling"
   ]
  },
  {
   "cell_type": "code",
   "execution_count": 1,
   "metadata": {},
   "outputs": [],
   "source": [
    "import pandas as pd\n",
    "import numpy as np\n",
    "import os \n",
    "import matplotlib.pyplot as plt\n",
    "import seaborn as sns\n",
    "\n",
    "from sklearn.model_selection import train_test_split \n",
    "from sklearn.preprocessing import OneHotEncoder \n",
    "from sklearn.tree import DecisionTreeClassifier\n",
    "from sklearn.neighbors import KNeighborsClassifier\n",
    "from sklearn.metrics import accuracy_score"
   ]
  },
  {
   "cell_type": "markdown",
   "metadata": {},
   "source": [
    "Decision Trees (DTs) and KNNs have many similarities. They are models that are fairly simple and intuitive to understand, can be used to solve both classification and regression problems, and are non-parametric models, meaning that they don't assume a particular relationship between the features and the label prior to training. However, KNNs and DTs each have their own advantages and disadvantages. In addition, one model may be better suited than the other for a particular machine learning problem based on multiple factors, such as the size and quality of the data, the problem-type and the hyperparameter configuration. For example, KNNs require feature values to be scaled, whereas DTs do not. DTs are also able to handle noisy data better than KNNs. \n",
    "\n",
    "Often times, it is beneficial to train multiple models on your training data to find the one that performs the best on the test data. "
   ]
  },
  {
   "cell_type": "markdown",
   "metadata": {},
   "source": [
    "In this lab, you will continue practicing the modeling phase of the machine learning life cycle. You will train Decision Trees and KNN models to solve a classification problem. You will experiment training multiple variations of the models with different hyperparameter values to find the best performing model for your predictive problem. You will complete the following tasks:\n",
    "    \n",
    "    \n",
    "1. Build your DataFrame and define your ML problem:\n",
    "    * Load the Airbnb \"listings\" data set\n",
    "    * Define the label - what are you predicting?\n",
    "    * Identify the features\n",
    "2. Prepare your data:\n",
    "    * Perform feature engineering by converting categorical features to one-hot encoded values\n",
    "3. Create labeled examples from the data set\n",
    "4. Split the data into training and test data sets\n",
    "5. Train multiple decision trees and evaluate their performances:\n",
    "    * Fit Decision Tree classifiers to the training data using different hyperparameter values per classifier\n",
    "    * Evaluate the accuracy of the models' predictions\n",
    "    * Plot the accuracy of each DT model as a function of hyperparameter max depth\n",
    "6. Train multiple KNN classifiers and evaluate their performances:\n",
    "    * Fit KNN classifiers to the training data using different hyperparameter values per classifier\n",
    "    * Evaluate the accuracy of the models' predictions\n",
    "    * Plot the accuracy of each KNN model as a function of hyperparameter $k$\n",
    "7. Analysis:\n",
    "   * Determine which is the best performing model \n",
    "   * Experiment with other factors that can help determine the best performing model"
   ]
  },
  {
   "cell_type": "markdown",
   "metadata": {},
   "source": [
    "## Part 1. Build Your DataFrame and Define Your ML Problem"
   ]
  },
  {
   "cell_type": "markdown",
   "metadata": {},
   "source": [
    "#### Load a Data Set and Save it as a Pandas DataFrame\n"
   ]
  },
  {
   "cell_type": "markdown",
   "metadata": {},
   "source": [
    "We will work with a new preprocessed, slimmed down version of the Airbnb NYC \"listings\" data set. This version is almost ready for modeling, with missing values and outliers taken care of. Also note that unstructured fields have been removed."
   ]
  },
  {
   "cell_type": "code",
   "execution_count": 2,
   "metadata": {},
   "outputs": [],
   "source": [
    "filename = os.path.join(os.getcwd(), \"data\", \"airbnbData_Prepared.csv\")"
   ]
  },
  {
   "cell_type": "markdown",
   "metadata": {},
   "source": [
    "<b>Task</b>: Load the data set into a Pandas DataFrame variable named `df`."
   ]
  },
  {
   "cell_type": "code",
   "execution_count": 3,
   "metadata": {},
   "outputs": [],
   "source": [
    "df = pd.read_csv(filename)"
   ]
  },
  {
   "cell_type": "markdown",
   "metadata": {},
   "source": [
    "####  Inspect the Data"
   ]
  },
  {
   "cell_type": "markdown",
   "metadata": {},
   "source": [
    "<b>Task</b>: In the code cell below, inspect the data in DataFrame `df` by printing the number of rows and columns, the column names, and the first ten rows. You may perform any other techniques you'd like to inspect the data."
   ]
  },
  {
   "cell_type": "code",
   "execution_count": 4,
   "metadata": {},
   "outputs": [
    {
     "name": "stdout",
     "output_type": "stream",
     "text": [
      "(28022, 43)\n",
      "Index(['host_response_rate', 'host_acceptance_rate', 'host_is_superhost',\n",
      "       'host_listings_count', 'host_total_listings_count',\n",
      "       'host_has_profile_pic', 'host_identity_verified',\n",
      "       'neighbourhood_group_cleansed', 'room_type', 'accommodates',\n",
      "       'bathrooms', 'bedrooms', 'beds', 'price', 'minimum_nights',\n",
      "       'maximum_nights', 'minimum_minimum_nights', 'maximum_minimum_nights',\n",
      "       'minimum_maximum_nights', 'maximum_maximum_nights',\n",
      "       'minimum_nights_avg_ntm', 'maximum_nights_avg_ntm', 'has_availability',\n",
      "       'availability_30', 'availability_60', 'availability_90',\n",
      "       'availability_365', 'number_of_reviews', 'number_of_reviews_ltm',\n",
      "       'number_of_reviews_l30d', 'review_scores_rating',\n",
      "       'review_scores_cleanliness', 'review_scores_checkin',\n",
      "       'review_scores_communication', 'review_scores_location',\n",
      "       'review_scores_value', 'instant_bookable',\n",
      "       'calculated_host_listings_count',\n",
      "       'calculated_host_listings_count_entire_homes',\n",
      "       'calculated_host_listings_count_private_rooms',\n",
      "       'calculated_host_listings_count_shared_rooms', 'reviews_per_month',\n",
      "       'n_host_verifications'],\n",
      "      dtype='object')\n",
      "   host_response_rate  host_acceptance_rate  host_is_superhost  \\\n",
      "0            0.800000              0.170000              False   \n",
      "1            0.090000              0.690000              False   \n",
      "2            1.000000              0.250000              False   \n",
      "3            1.000000              1.000000              False   \n",
      "4            0.890731              0.768297              False   \n",
      "5            1.000000              1.000000               True   \n",
      "6            1.000000              1.000000              False   \n",
      "7            1.000000              1.000000              False   \n",
      "8            1.000000              0.000000              False   \n",
      "9            1.000000              0.990000               True   \n",
      "\n",
      "   host_listings_count  host_total_listings_count  host_has_profile_pic  \\\n",
      "0                    8                          8                  True   \n",
      "1                    1                          1                  True   \n",
      "2                    1                          1                  True   \n",
      "3                    1                          1                  True   \n",
      "4                    1                          1                  True   \n",
      "5                    3                          3                  True   \n",
      "6                    1                          1                  True   \n",
      "7                    3                          3                  True   \n",
      "8                    2                          2                  True   \n",
      "9                    1                          1                  True   \n",
      "\n",
      "   host_identity_verified neighbourhood_group_cleansed        room_type  \\\n",
      "0                    True                    Manhattan  Entire home/apt   \n",
      "1                    True                     Brooklyn  Entire home/apt   \n",
      "2                    True                     Brooklyn  Entire home/apt   \n",
      "3                   False                    Manhattan     Private room   \n",
      "4                    True                    Manhattan     Private room   \n",
      "5                    True                     Brooklyn     Private room   \n",
      "6                    True                     Brooklyn  Entire home/apt   \n",
      "7                    True                    Manhattan     Private room   \n",
      "8                    True                     Brooklyn     Private room   \n",
      "9                    True                     Brooklyn  Entire home/apt   \n",
      "\n",
      "   accommodates  ...  review_scores_communication  review_scores_location  \\\n",
      "0             1  ...                         4.79                    4.86   \n",
      "1             3  ...                         4.80                    4.71   \n",
      "2             4  ...                         5.00                    4.50   \n",
      "3             2  ...                         4.42                    4.87   \n",
      "4             1  ...                         4.95                    4.94   \n",
      "5             2  ...                         4.82                    4.87   \n",
      "6             3  ...                         4.80                    4.67   \n",
      "7             1  ...                         4.95                    4.84   \n",
      "8             1  ...                         5.00                    5.00   \n",
      "9             4  ...                         4.91                    4.93   \n",
      "\n",
      "   review_scores_value  instant_bookable  calculated_host_listings_count  \\\n",
      "0                 4.41             False                               3   \n",
      "1                 4.64             False                               1   \n",
      "2                 5.00             False                               1   \n",
      "3                 4.36             False                               1   \n",
      "4                 4.92             False                               1   \n",
      "5                 4.73             False                               3   \n",
      "6                 4.57              True                               1   \n",
      "7                 4.84              True                               1   \n",
      "8                 5.00             False                               2   \n",
      "9                 4.78              True                               2   \n",
      "\n",
      "   calculated_host_listings_count_entire_homes  \\\n",
      "0                                            3   \n",
      "1                                            1   \n",
      "2                                            1   \n",
      "3                                            0   \n",
      "4                                            0   \n",
      "5                                            1   \n",
      "6                                            1   \n",
      "7                                            0   \n",
      "8                                            0   \n",
      "9                                            1   \n",
      "\n",
      "   calculated_host_listings_count_private_rooms  \\\n",
      "0                                             0   \n",
      "1                                             0   \n",
      "2                                             0   \n",
      "3                                             1   \n",
      "4                                             1   \n",
      "5                                             2   \n",
      "6                                             0   \n",
      "7                                             1   \n",
      "8                                             2   \n",
      "9                                             1   \n",
      "\n",
      "   calculated_host_listings_count_shared_rooms  reviews_per_month  \\\n",
      "0                                            0               0.33   \n",
      "1                                            0               4.86   \n",
      "2                                            0               0.02   \n",
      "3                                            0               3.68   \n",
      "4                                            0               0.87   \n",
      "5                                            0               1.48   \n",
      "6                                            0               1.24   \n",
      "7                                            0               1.82   \n",
      "8                                            0               0.07   \n",
      "9                                            0               3.05   \n",
      "\n",
      "   n_host_verifications  \n",
      "0                     9  \n",
      "1                     6  \n",
      "2                     3  \n",
      "3                     4  \n",
      "4                     7  \n",
      "5                     7  \n",
      "6                     7  \n",
      "7                     5  \n",
      "8                     5  \n",
      "9                     8  \n",
      "\n",
      "[10 rows x 43 columns]\n"
     ]
    }
   ],
   "source": [
    "print(df.shape)\n",
    "print(df.columns)\n",
    "print(df.head(10))"
   ]
  },
  {
   "cell_type": "markdown",
   "metadata": {},
   "source": [
    "#### Define the Label\n",
    "\n",
    "Assume that your goal is to train a machine learning model that predicts whether an Airbnb host is a 'super host'. This is an example of supervised learning and is a binary classification problem. In our dataset, our label will be the `host_is_superhost` column and the label will either contain the value `True` or `False`. Let's inspect the values in the `host_is_superhost` column."
   ]
  },
  {
   "cell_type": "code",
   "execution_count": 5,
   "metadata": {},
   "outputs": [
    {
     "data": {
      "text/plain": [
       "0        False\n",
       "1        False\n",
       "2        False\n",
       "3        False\n",
       "4        False\n",
       "         ...  \n",
       "28017    False\n",
       "28018    False\n",
       "28019     True\n",
       "28020     True\n",
       "28021    False\n",
       "Name: host_is_superhost, Length: 28022, dtype: bool"
      ]
     },
     "execution_count": 5,
     "metadata": {},
     "output_type": "execute_result"
    }
   ],
   "source": [
    "df['host_is_superhost']"
   ]
  },
  {
   "cell_type": "markdown",
   "metadata": {},
   "source": [
    "#### Identify Features"
   ]
  },
  {
   "cell_type": "markdown",
   "metadata": {},
   "source": [
    "Our features will be all of the remaining columns in the dataset. \n",
    "\n",
    "<b>Task:</b> Create a list of the feature names."
   ]
  },
  {
   "cell_type": "code",
   "execution_count": 6,
   "metadata": {},
   "outputs": [
    {
     "data": {
      "text/plain": [
       "['host_response_rate',\n",
       " 'host_acceptance_rate',\n",
       " 'host_listings_count',\n",
       " 'host_total_listings_count',\n",
       " 'host_has_profile_pic',\n",
       " 'host_identity_verified',\n",
       " 'neighbourhood_group_cleansed',\n",
       " 'room_type',\n",
       " 'accommodates',\n",
       " 'bathrooms',\n",
       " 'bedrooms',\n",
       " 'beds',\n",
       " 'price',\n",
       " 'minimum_nights',\n",
       " 'maximum_nights',\n",
       " 'minimum_minimum_nights',\n",
       " 'maximum_minimum_nights',\n",
       " 'minimum_maximum_nights',\n",
       " 'maximum_maximum_nights',\n",
       " 'minimum_nights_avg_ntm',\n",
       " 'maximum_nights_avg_ntm',\n",
       " 'has_availability',\n",
       " 'availability_30',\n",
       " 'availability_60',\n",
       " 'availability_90',\n",
       " 'availability_365',\n",
       " 'number_of_reviews',\n",
       " 'number_of_reviews_ltm',\n",
       " 'number_of_reviews_l30d',\n",
       " 'review_scores_rating',\n",
       " 'review_scores_cleanliness',\n",
       " 'review_scores_checkin',\n",
       " 'review_scores_communication',\n",
       " 'review_scores_location',\n",
       " 'review_scores_value',\n",
       " 'instant_bookable',\n",
       " 'calculated_host_listings_count',\n",
       " 'calculated_host_listings_count_entire_homes',\n",
       " 'calculated_host_listings_count_private_rooms',\n",
       " 'calculated_host_listings_count_shared_rooms',\n",
       " 'reviews_per_month',\n",
       " 'n_host_verifications']"
      ]
     },
     "execution_count": 6,
     "metadata": {},
     "output_type": "execute_result"
    }
   ],
   "source": [
    "features = list(df.drop(labels='host_is_superhost', axis=1))\n",
    "features"
   ]
  },
  {
   "cell_type": "markdown",
   "metadata": {},
   "source": [
    "## Part 2. Prepare Your Data\n",
    "\n",
    "Many of the data preparation techniques that you practiced in Unit two have already been performed and the data is almost ready for modeling. The one exception is that a few string-valued categorical features remain. Let's perform one-hot encoding to transform these features into numerical boolean values. This will result in a data set that we can use for modeling."
   ]
  },
  {
   "cell_type": "markdown",
   "metadata": {},
   "source": [
    "#### Identify the Features that Should be One-Hot Encoded"
   ]
  },
  {
   "cell_type": "markdown",
   "metadata": {},
   "source": [
    "**Task**: Find all of the columns whose values are of type 'object' and add the column names to a list named `to_encode`."
   ]
  },
  {
   "cell_type": "code",
   "execution_count": 7,
   "metadata": {},
   "outputs": [
    {
     "data": {
      "text/html": [
       "<div>\n",
       "<style scoped>\n",
       "    .dataframe tbody tr th:only-of-type {\n",
       "        vertical-align: middle;\n",
       "    }\n",
       "\n",
       "    .dataframe tbody tr th {\n",
       "        vertical-align: top;\n",
       "    }\n",
       "\n",
       "    .dataframe thead th {\n",
       "        text-align: right;\n",
       "    }\n",
       "</style>\n",
       "<table border=\"1\" class=\"dataframe\">\n",
       "  <thead>\n",
       "    <tr style=\"text-align: right;\">\n",
       "      <th></th>\n",
       "      <th>neighbourhood_group_cleansed</th>\n",
       "      <th>room_type</th>\n",
       "    </tr>\n",
       "  </thead>\n",
       "  <tbody>\n",
       "    <tr>\n",
       "      <th>0</th>\n",
       "      <td>Manhattan</td>\n",
       "      <td>Entire home/apt</td>\n",
       "    </tr>\n",
       "    <tr>\n",
       "      <th>1</th>\n",
       "      <td>Brooklyn</td>\n",
       "      <td>Entire home/apt</td>\n",
       "    </tr>\n",
       "    <tr>\n",
       "      <th>2</th>\n",
       "      <td>Brooklyn</td>\n",
       "      <td>Entire home/apt</td>\n",
       "    </tr>\n",
       "    <tr>\n",
       "      <th>3</th>\n",
       "      <td>Manhattan</td>\n",
       "      <td>Private room</td>\n",
       "    </tr>\n",
       "    <tr>\n",
       "      <th>4</th>\n",
       "      <td>Manhattan</td>\n",
       "      <td>Private room</td>\n",
       "    </tr>\n",
       "    <tr>\n",
       "      <th>...</th>\n",
       "      <td>...</td>\n",
       "      <td>...</td>\n",
       "    </tr>\n",
       "    <tr>\n",
       "      <th>28017</th>\n",
       "      <td>Queens</td>\n",
       "      <td>Private room</td>\n",
       "    </tr>\n",
       "    <tr>\n",
       "      <th>28018</th>\n",
       "      <td>Brooklyn</td>\n",
       "      <td>Entire home/apt</td>\n",
       "    </tr>\n",
       "    <tr>\n",
       "      <th>28019</th>\n",
       "      <td>Brooklyn</td>\n",
       "      <td>Private room</td>\n",
       "    </tr>\n",
       "    <tr>\n",
       "      <th>28020</th>\n",
       "      <td>Brooklyn</td>\n",
       "      <td>Entire home/apt</td>\n",
       "    </tr>\n",
       "    <tr>\n",
       "      <th>28021</th>\n",
       "      <td>Queens</td>\n",
       "      <td>Private room</td>\n",
       "    </tr>\n",
       "  </tbody>\n",
       "</table>\n",
       "<p>28022 rows × 2 columns</p>\n",
       "</div>"
      ],
      "text/plain": [
       "      neighbourhood_group_cleansed        room_type\n",
       "0                        Manhattan  Entire home/apt\n",
       "1                         Brooklyn  Entire home/apt\n",
       "2                         Brooklyn  Entire home/apt\n",
       "3                        Manhattan     Private room\n",
       "4                        Manhattan     Private room\n",
       "...                            ...              ...\n",
       "28017                       Queens     Private room\n",
       "28018                     Brooklyn  Entire home/apt\n",
       "28019                     Brooklyn     Private room\n",
       "28020                     Brooklyn  Entire home/apt\n",
       "28021                       Queens     Private room\n",
       "\n",
       "[28022 rows x 2 columns]"
      ]
     },
     "execution_count": 7,
     "metadata": {},
     "output_type": "execute_result"
    }
   ],
   "source": [
    "to_encode = (df.select_dtypes(include=['object']))\n",
    "to_encode"
   ]
  },
  {
   "cell_type": "markdown",
   "metadata": {},
   "source": [
    "**Task**: Find the number of unique values each column in `to_encode` has:"
   ]
  },
  {
   "cell_type": "code",
   "execution_count": 8,
   "metadata": {},
   "outputs": [
    {
     "data": {
      "text/plain": [
       "neighbourhood_group_cleansed    5\n",
       "room_type                       4\n",
       "dtype: int64"
      ]
     },
     "execution_count": 8,
     "metadata": {},
     "output_type": "execute_result"
    }
   ],
   "source": [
    "(to_encode.nunique())"
   ]
  },
  {
   "cell_type": "markdown",
   "metadata": {},
   "source": [
    "#### One-Hot Encode the Features"
   ]
  },
  {
   "cell_type": "markdown",
   "metadata": {},
   "source": [
    "Instead of one-hot encoding each column using the NumPy `np.where()` or Pandas `pd.get_dummies()` functions, we can use the more robust `OneHotEncoder` transformation class from `sklearn`. For more information, consult the online [documentation](https://scikit-learn.org/stable/modules/generated/sklearn.preprocessing.OneHotEncoder.html). "
   ]
  },
  {
   "cell_type": "markdown",
   "metadata": {},
   "source": [
    "\n",
    "<b><i>Note:</i></b> We are working with `sklearn` version 0.22.2. You can find documentation for the `OneHotEncoder` class that that corresponds to our version of `sklearn` [here](https://scikit-learn.org/0.20/modules/generated/sklearn.preprocessing.OneHotEncoder.html). When choosing which features of the  `OneHotEncoder` class to use, do not use features that have been introduced in newer versions of `sklearn`. For example, you should specify the parameter `sparse=False` when calling `OneHotEncoder()` to create an encoder object. The documentation notes that the latest version of `sklearn` uses the `sparse_ouput` parameter instead of `sparse`, but you should stick with `sparse`.\n",
    "\n",
    "<b>Task</b>: Refer to the documenation and follow the instructions in the code cell below to create one-hot encoded features."
   ]
  },
  {
   "cell_type": "code",
   "execution_count": 9,
   "metadata": {},
   "outputs": [
    {
     "name": "stdout",
     "output_type": "stream",
     "text": [
      "Object `enc.fit_transform` not found.\n"
     ]
    }
   ],
   "source": [
    "from sklearn.preprocessing import OneHotEncoder  # Import OneHotEncoder\n",
    "# Create the encoder:\n",
    "# Create the  Scikit-learn OneHotEncoder object below and assign to variable 'enc'.\n",
    "# When calling OneHotEncoder(), specify that the 'sparse' parameter is False\n",
    "enc = OneHotEncoder(sparse=False)\n",
    "# YOUR CODE HERE\n",
    "\n",
    "# Apply the encoder:\n",
    "# Use the method 'enc.fit_transform() to fit the encoder to the data (the two columns) and transform the data into \n",
    "# one-hot encoded values\n",
    "# Convert the results to a DataFrame and save it to variable 'df_enc'\n",
    "df_enc = pd.DataFrame(enc.fit_transform(to_encode))\n",
    "# YOUR CODE HERE\n"
   ]
  },
  {
   "cell_type": "markdown",
   "metadata": {},
   "source": [
    "Let's inspect our new DataFrame `df_enc` that contains the one-hot encoded columns."
   ]
  },
  {
   "cell_type": "code",
   "execution_count": 10,
   "metadata": {},
   "outputs": [
    {
     "data": {
      "text/html": [
       "<div>\n",
       "<style scoped>\n",
       "    .dataframe tbody tr th:only-of-type {\n",
       "        vertical-align: middle;\n",
       "    }\n",
       "\n",
       "    .dataframe tbody tr th {\n",
       "        vertical-align: top;\n",
       "    }\n",
       "\n",
       "    .dataframe thead th {\n",
       "        text-align: right;\n",
       "    }\n",
       "</style>\n",
       "<table border=\"1\" class=\"dataframe\">\n",
       "  <thead>\n",
       "    <tr style=\"text-align: right;\">\n",
       "      <th></th>\n",
       "      <th>0</th>\n",
       "      <th>1</th>\n",
       "      <th>2</th>\n",
       "      <th>3</th>\n",
       "      <th>4</th>\n",
       "      <th>5</th>\n",
       "      <th>6</th>\n",
       "      <th>7</th>\n",
       "      <th>8</th>\n",
       "    </tr>\n",
       "  </thead>\n",
       "  <tbody>\n",
       "    <tr>\n",
       "      <th>0</th>\n",
       "      <td>0.0</td>\n",
       "      <td>0.0</td>\n",
       "      <td>1.0</td>\n",
       "      <td>0.0</td>\n",
       "      <td>0.0</td>\n",
       "      <td>1.0</td>\n",
       "      <td>0.0</td>\n",
       "      <td>0.0</td>\n",
       "      <td>0.0</td>\n",
       "    </tr>\n",
       "    <tr>\n",
       "      <th>1</th>\n",
       "      <td>0.0</td>\n",
       "      <td>1.0</td>\n",
       "      <td>0.0</td>\n",
       "      <td>0.0</td>\n",
       "      <td>0.0</td>\n",
       "      <td>1.0</td>\n",
       "      <td>0.0</td>\n",
       "      <td>0.0</td>\n",
       "      <td>0.0</td>\n",
       "    </tr>\n",
       "    <tr>\n",
       "      <th>2</th>\n",
       "      <td>0.0</td>\n",
       "      <td>1.0</td>\n",
       "      <td>0.0</td>\n",
       "      <td>0.0</td>\n",
       "      <td>0.0</td>\n",
       "      <td>1.0</td>\n",
       "      <td>0.0</td>\n",
       "      <td>0.0</td>\n",
       "      <td>0.0</td>\n",
       "    </tr>\n",
       "    <tr>\n",
       "      <th>3</th>\n",
       "      <td>0.0</td>\n",
       "      <td>0.0</td>\n",
       "      <td>1.0</td>\n",
       "      <td>0.0</td>\n",
       "      <td>0.0</td>\n",
       "      <td>0.0</td>\n",
       "      <td>0.0</td>\n",
       "      <td>1.0</td>\n",
       "      <td>0.0</td>\n",
       "    </tr>\n",
       "    <tr>\n",
       "      <th>4</th>\n",
       "      <td>0.0</td>\n",
       "      <td>0.0</td>\n",
       "      <td>1.0</td>\n",
       "      <td>0.0</td>\n",
       "      <td>0.0</td>\n",
       "      <td>0.0</td>\n",
       "      <td>0.0</td>\n",
       "      <td>1.0</td>\n",
       "      <td>0.0</td>\n",
       "    </tr>\n",
       "  </tbody>\n",
       "</table>\n",
       "</div>"
      ],
      "text/plain": [
       "     0    1    2    3    4    5    6    7    8\n",
       "0  0.0  0.0  1.0  0.0  0.0  1.0  0.0  0.0  0.0\n",
       "1  0.0  1.0  0.0  0.0  0.0  1.0  0.0  0.0  0.0\n",
       "2  0.0  1.0  0.0  0.0  0.0  1.0  0.0  0.0  0.0\n",
       "3  0.0  0.0  1.0  0.0  0.0  0.0  0.0  1.0  0.0\n",
       "4  0.0  0.0  1.0  0.0  0.0  0.0  0.0  1.0  0.0"
      ]
     },
     "execution_count": 10,
     "metadata": {},
     "output_type": "execute_result"
    }
   ],
   "source": [
    "df_enc.head()"
   ]
  },
  {
   "cell_type": "markdown",
   "metadata": {},
   "source": [
    "Notice that the column names are numerical. \n",
    "\n",
    "<b>Task:</b> Complete the code below to reinstate the original column names.\n"
   ]
  },
  {
   "cell_type": "code",
   "execution_count": 11,
   "metadata": {},
   "outputs": [],
   "source": [
    "# Use the method enc.get_feature_names() to resintate the original column names. \n",
    "# Call the function with the original two column names as arguments.\n",
    "# Save the results to 'df_enc.columns'\n",
    "\n",
    "df_enc.columns = enc.get_feature_names(to_encode.columns)"
   ]
  },
  {
   "cell_type": "markdown",
   "metadata": {},
   "source": [
    "Let's inspect our new DataFrame `df_enc` once again."
   ]
  },
  {
   "cell_type": "code",
   "execution_count": 12,
   "metadata": {},
   "outputs": [
    {
     "data": {
      "text/html": [
       "<div>\n",
       "<style scoped>\n",
       "    .dataframe tbody tr th:only-of-type {\n",
       "        vertical-align: middle;\n",
       "    }\n",
       "\n",
       "    .dataframe tbody tr th {\n",
       "        vertical-align: top;\n",
       "    }\n",
       "\n",
       "    .dataframe thead th {\n",
       "        text-align: right;\n",
       "    }\n",
       "</style>\n",
       "<table border=\"1\" class=\"dataframe\">\n",
       "  <thead>\n",
       "    <tr style=\"text-align: right;\">\n",
       "      <th></th>\n",
       "      <th>neighbourhood_group_cleansed_Bronx</th>\n",
       "      <th>neighbourhood_group_cleansed_Brooklyn</th>\n",
       "      <th>neighbourhood_group_cleansed_Manhattan</th>\n",
       "      <th>neighbourhood_group_cleansed_Queens</th>\n",
       "      <th>neighbourhood_group_cleansed_Staten Island</th>\n",
       "      <th>room_type_Entire home/apt</th>\n",
       "      <th>room_type_Hotel room</th>\n",
       "      <th>room_type_Private room</th>\n",
       "      <th>room_type_Shared room</th>\n",
       "    </tr>\n",
       "  </thead>\n",
       "  <tbody>\n",
       "    <tr>\n",
       "      <th>0</th>\n",
       "      <td>0.0</td>\n",
       "      <td>0.0</td>\n",
       "      <td>1.0</td>\n",
       "      <td>0.0</td>\n",
       "      <td>0.0</td>\n",
       "      <td>1.0</td>\n",
       "      <td>0.0</td>\n",
       "      <td>0.0</td>\n",
       "      <td>0.0</td>\n",
       "    </tr>\n",
       "    <tr>\n",
       "      <th>1</th>\n",
       "      <td>0.0</td>\n",
       "      <td>1.0</td>\n",
       "      <td>0.0</td>\n",
       "      <td>0.0</td>\n",
       "      <td>0.0</td>\n",
       "      <td>1.0</td>\n",
       "      <td>0.0</td>\n",
       "      <td>0.0</td>\n",
       "      <td>0.0</td>\n",
       "    </tr>\n",
       "    <tr>\n",
       "      <th>2</th>\n",
       "      <td>0.0</td>\n",
       "      <td>1.0</td>\n",
       "      <td>0.0</td>\n",
       "      <td>0.0</td>\n",
       "      <td>0.0</td>\n",
       "      <td>1.0</td>\n",
       "      <td>0.0</td>\n",
       "      <td>0.0</td>\n",
       "      <td>0.0</td>\n",
       "    </tr>\n",
       "    <tr>\n",
       "      <th>3</th>\n",
       "      <td>0.0</td>\n",
       "      <td>0.0</td>\n",
       "      <td>1.0</td>\n",
       "      <td>0.0</td>\n",
       "      <td>0.0</td>\n",
       "      <td>0.0</td>\n",
       "      <td>0.0</td>\n",
       "      <td>1.0</td>\n",
       "      <td>0.0</td>\n",
       "    </tr>\n",
       "    <tr>\n",
       "      <th>4</th>\n",
       "      <td>0.0</td>\n",
       "      <td>0.0</td>\n",
       "      <td>1.0</td>\n",
       "      <td>0.0</td>\n",
       "      <td>0.0</td>\n",
       "      <td>0.0</td>\n",
       "      <td>0.0</td>\n",
       "      <td>1.0</td>\n",
       "      <td>0.0</td>\n",
       "    </tr>\n",
       "    <tr>\n",
       "      <th>5</th>\n",
       "      <td>0.0</td>\n",
       "      <td>1.0</td>\n",
       "      <td>0.0</td>\n",
       "      <td>0.0</td>\n",
       "      <td>0.0</td>\n",
       "      <td>0.0</td>\n",
       "      <td>0.0</td>\n",
       "      <td>1.0</td>\n",
       "      <td>0.0</td>\n",
       "    </tr>\n",
       "    <tr>\n",
       "      <th>6</th>\n",
       "      <td>0.0</td>\n",
       "      <td>1.0</td>\n",
       "      <td>0.0</td>\n",
       "      <td>0.0</td>\n",
       "      <td>0.0</td>\n",
       "      <td>1.0</td>\n",
       "      <td>0.0</td>\n",
       "      <td>0.0</td>\n",
       "      <td>0.0</td>\n",
       "    </tr>\n",
       "    <tr>\n",
       "      <th>7</th>\n",
       "      <td>0.0</td>\n",
       "      <td>0.0</td>\n",
       "      <td>1.0</td>\n",
       "      <td>0.0</td>\n",
       "      <td>0.0</td>\n",
       "      <td>0.0</td>\n",
       "      <td>0.0</td>\n",
       "      <td>1.0</td>\n",
       "      <td>0.0</td>\n",
       "    </tr>\n",
       "    <tr>\n",
       "      <th>8</th>\n",
       "      <td>0.0</td>\n",
       "      <td>1.0</td>\n",
       "      <td>0.0</td>\n",
       "      <td>0.0</td>\n",
       "      <td>0.0</td>\n",
       "      <td>0.0</td>\n",
       "      <td>0.0</td>\n",
       "      <td>1.0</td>\n",
       "      <td>0.0</td>\n",
       "    </tr>\n",
       "    <tr>\n",
       "      <th>9</th>\n",
       "      <td>0.0</td>\n",
       "      <td>1.0</td>\n",
       "      <td>0.0</td>\n",
       "      <td>0.0</td>\n",
       "      <td>0.0</td>\n",
       "      <td>1.0</td>\n",
       "      <td>0.0</td>\n",
       "      <td>0.0</td>\n",
       "      <td>0.0</td>\n",
       "    </tr>\n",
       "  </tbody>\n",
       "</table>\n",
       "</div>"
      ],
      "text/plain": [
       "   neighbourhood_group_cleansed_Bronx  neighbourhood_group_cleansed_Brooklyn  \\\n",
       "0                                 0.0                                    0.0   \n",
       "1                                 0.0                                    1.0   \n",
       "2                                 0.0                                    1.0   \n",
       "3                                 0.0                                    0.0   \n",
       "4                                 0.0                                    0.0   \n",
       "5                                 0.0                                    1.0   \n",
       "6                                 0.0                                    1.0   \n",
       "7                                 0.0                                    0.0   \n",
       "8                                 0.0                                    1.0   \n",
       "9                                 0.0                                    1.0   \n",
       "\n",
       "   neighbourhood_group_cleansed_Manhattan  \\\n",
       "0                                     1.0   \n",
       "1                                     0.0   \n",
       "2                                     0.0   \n",
       "3                                     1.0   \n",
       "4                                     1.0   \n",
       "5                                     0.0   \n",
       "6                                     0.0   \n",
       "7                                     1.0   \n",
       "8                                     0.0   \n",
       "9                                     0.0   \n",
       "\n",
       "   neighbourhood_group_cleansed_Queens  \\\n",
       "0                                  0.0   \n",
       "1                                  0.0   \n",
       "2                                  0.0   \n",
       "3                                  0.0   \n",
       "4                                  0.0   \n",
       "5                                  0.0   \n",
       "6                                  0.0   \n",
       "7                                  0.0   \n",
       "8                                  0.0   \n",
       "9                                  0.0   \n",
       "\n",
       "   neighbourhood_group_cleansed_Staten Island  room_type_Entire home/apt  \\\n",
       "0                                         0.0                        1.0   \n",
       "1                                         0.0                        1.0   \n",
       "2                                         0.0                        1.0   \n",
       "3                                         0.0                        0.0   \n",
       "4                                         0.0                        0.0   \n",
       "5                                         0.0                        0.0   \n",
       "6                                         0.0                        1.0   \n",
       "7                                         0.0                        0.0   \n",
       "8                                         0.0                        0.0   \n",
       "9                                         0.0                        1.0   \n",
       "\n",
       "   room_type_Hotel room  room_type_Private room  room_type_Shared room  \n",
       "0                   0.0                     0.0                    0.0  \n",
       "1                   0.0                     0.0                    0.0  \n",
       "2                   0.0                     0.0                    0.0  \n",
       "3                   0.0                     1.0                    0.0  \n",
       "4                   0.0                     1.0                    0.0  \n",
       "5                   0.0                     1.0                    0.0  \n",
       "6                   0.0                     0.0                    0.0  \n",
       "7                   0.0                     1.0                    0.0  \n",
       "8                   0.0                     1.0                    0.0  \n",
       "9                   0.0                     0.0                    0.0  "
      ]
     },
     "execution_count": 12,
     "metadata": {},
     "output_type": "execute_result"
    }
   ],
   "source": [
    "df_enc.head(10)"
   ]
  },
  {
   "cell_type": "markdown",
   "metadata": {},
   "source": [
    "<b>Task</b>: You can now remove the original columns that we have just transformed from DataFrame `df`.\n"
   ]
  },
  {
   "cell_type": "code",
   "execution_count": 13,
   "metadata": {},
   "outputs": [],
   "source": [
    "df.drop(labels=to_encode.columns, axis=1, inplace=True)"
   ]
  },
  {
   "cell_type": "markdown",
   "metadata": {},
   "source": [
    "<b>Task</b>: You can now join the transformed features contained in `df_enc` with DataFrame `df`"
   ]
  },
  {
   "cell_type": "code",
   "execution_count": 14,
   "metadata": {
    "scrolled": true
   },
   "outputs": [
    {
     "data": {
      "text/html": [
       "<div>\n",
       "<style scoped>\n",
       "    .dataframe tbody tr th:only-of-type {\n",
       "        vertical-align: middle;\n",
       "    }\n",
       "\n",
       "    .dataframe tbody tr th {\n",
       "        vertical-align: top;\n",
       "    }\n",
       "\n",
       "    .dataframe thead th {\n",
       "        text-align: right;\n",
       "    }\n",
       "</style>\n",
       "<table border=\"1\" class=\"dataframe\">\n",
       "  <thead>\n",
       "    <tr style=\"text-align: right;\">\n",
       "      <th></th>\n",
       "      <th>host_response_rate</th>\n",
       "      <th>host_acceptance_rate</th>\n",
       "      <th>host_is_superhost</th>\n",
       "      <th>host_listings_count</th>\n",
       "      <th>host_total_listings_count</th>\n",
       "      <th>host_has_profile_pic</th>\n",
       "      <th>host_identity_verified</th>\n",
       "      <th>accommodates</th>\n",
       "      <th>bathrooms</th>\n",
       "      <th>bedrooms</th>\n",
       "      <th>...</th>\n",
       "      <th>n_host_verifications</th>\n",
       "      <th>neighbourhood_group_cleansed_Bronx</th>\n",
       "      <th>neighbourhood_group_cleansed_Brooklyn</th>\n",
       "      <th>neighbourhood_group_cleansed_Manhattan</th>\n",
       "      <th>neighbourhood_group_cleansed_Queens</th>\n",
       "      <th>neighbourhood_group_cleansed_Staten Island</th>\n",
       "      <th>room_type_Entire home/apt</th>\n",
       "      <th>room_type_Hotel room</th>\n",
       "      <th>room_type_Private room</th>\n",
       "      <th>room_type_Shared room</th>\n",
       "    </tr>\n",
       "  </thead>\n",
       "  <tbody>\n",
       "    <tr>\n",
       "      <th>0</th>\n",
       "      <td>0.800000</td>\n",
       "      <td>0.170000</td>\n",
       "      <td>False</td>\n",
       "      <td>8.0</td>\n",
       "      <td>8.0</td>\n",
       "      <td>True</td>\n",
       "      <td>True</td>\n",
       "      <td>1.0</td>\n",
       "      <td>1.0</td>\n",
       "      <td>1.323567</td>\n",
       "      <td>...</td>\n",
       "      <td>9.0</td>\n",
       "      <td>NaN</td>\n",
       "      <td>NaN</td>\n",
       "      <td>NaN</td>\n",
       "      <td>NaN</td>\n",
       "      <td>NaN</td>\n",
       "      <td>NaN</td>\n",
       "      <td>NaN</td>\n",
       "      <td>NaN</td>\n",
       "      <td>NaN</td>\n",
       "    </tr>\n",
       "    <tr>\n",
       "      <th>1</th>\n",
       "      <td>0.090000</td>\n",
       "      <td>0.690000</td>\n",
       "      <td>False</td>\n",
       "      <td>1.0</td>\n",
       "      <td>1.0</td>\n",
       "      <td>True</td>\n",
       "      <td>True</td>\n",
       "      <td>3.0</td>\n",
       "      <td>1.0</td>\n",
       "      <td>1.000000</td>\n",
       "      <td>...</td>\n",
       "      <td>6.0</td>\n",
       "      <td>NaN</td>\n",
       "      <td>NaN</td>\n",
       "      <td>NaN</td>\n",
       "      <td>NaN</td>\n",
       "      <td>NaN</td>\n",
       "      <td>NaN</td>\n",
       "      <td>NaN</td>\n",
       "      <td>NaN</td>\n",
       "      <td>NaN</td>\n",
       "    </tr>\n",
       "    <tr>\n",
       "      <th>2</th>\n",
       "      <td>1.000000</td>\n",
       "      <td>0.250000</td>\n",
       "      <td>False</td>\n",
       "      <td>1.0</td>\n",
       "      <td>1.0</td>\n",
       "      <td>True</td>\n",
       "      <td>True</td>\n",
       "      <td>4.0</td>\n",
       "      <td>1.5</td>\n",
       "      <td>2.000000</td>\n",
       "      <td>...</td>\n",
       "      <td>3.0</td>\n",
       "      <td>NaN</td>\n",
       "      <td>NaN</td>\n",
       "      <td>NaN</td>\n",
       "      <td>NaN</td>\n",
       "      <td>NaN</td>\n",
       "      <td>NaN</td>\n",
       "      <td>NaN</td>\n",
       "      <td>NaN</td>\n",
       "      <td>NaN</td>\n",
       "    </tr>\n",
       "    <tr>\n",
       "      <th>3</th>\n",
       "      <td>1.000000</td>\n",
       "      <td>1.000000</td>\n",
       "      <td>False</td>\n",
       "      <td>1.0</td>\n",
       "      <td>1.0</td>\n",
       "      <td>True</td>\n",
       "      <td>False</td>\n",
       "      <td>2.0</td>\n",
       "      <td>1.0</td>\n",
       "      <td>1.000000</td>\n",
       "      <td>...</td>\n",
       "      <td>4.0</td>\n",
       "      <td>NaN</td>\n",
       "      <td>NaN</td>\n",
       "      <td>NaN</td>\n",
       "      <td>NaN</td>\n",
       "      <td>NaN</td>\n",
       "      <td>NaN</td>\n",
       "      <td>NaN</td>\n",
       "      <td>NaN</td>\n",
       "      <td>NaN</td>\n",
       "    </tr>\n",
       "    <tr>\n",
       "      <th>4</th>\n",
       "      <td>0.890731</td>\n",
       "      <td>0.768297</td>\n",
       "      <td>False</td>\n",
       "      <td>1.0</td>\n",
       "      <td>1.0</td>\n",
       "      <td>True</td>\n",
       "      <td>True</td>\n",
       "      <td>1.0</td>\n",
       "      <td>1.0</td>\n",
       "      <td>1.000000</td>\n",
       "      <td>...</td>\n",
       "      <td>7.0</td>\n",
       "      <td>NaN</td>\n",
       "      <td>NaN</td>\n",
       "      <td>NaN</td>\n",
       "      <td>NaN</td>\n",
       "      <td>NaN</td>\n",
       "      <td>NaN</td>\n",
       "      <td>NaN</td>\n",
       "      <td>NaN</td>\n",
       "      <td>NaN</td>\n",
       "    </tr>\n",
       "    <tr>\n",
       "      <th>...</th>\n",
       "      <td>...</td>\n",
       "      <td>...</td>\n",
       "      <td>...</td>\n",
       "      <td>...</td>\n",
       "      <td>...</td>\n",
       "      <td>...</td>\n",
       "      <td>...</td>\n",
       "      <td>...</td>\n",
       "      <td>...</td>\n",
       "      <td>...</td>\n",
       "      <td>...</td>\n",
       "      <td>...</td>\n",
       "      <td>...</td>\n",
       "      <td>...</td>\n",
       "      <td>...</td>\n",
       "      <td>...</td>\n",
       "      <td>...</td>\n",
       "      <td>...</td>\n",
       "      <td>...</td>\n",
       "      <td>...</td>\n",
       "      <td>...</td>\n",
       "    </tr>\n",
       "    <tr>\n",
       "      <th>28017</th>\n",
       "      <td>NaN</td>\n",
       "      <td>NaN</td>\n",
       "      <td>NaN</td>\n",
       "      <td>NaN</td>\n",
       "      <td>NaN</td>\n",
       "      <td>NaN</td>\n",
       "      <td>NaN</td>\n",
       "      <td>NaN</td>\n",
       "      <td>NaN</td>\n",
       "      <td>NaN</td>\n",
       "      <td>...</td>\n",
       "      <td>NaN</td>\n",
       "      <td>0.0</td>\n",
       "      <td>0.0</td>\n",
       "      <td>0.0</td>\n",
       "      <td>1.0</td>\n",
       "      <td>0.0</td>\n",
       "      <td>0.0</td>\n",
       "      <td>0.0</td>\n",
       "      <td>1.0</td>\n",
       "      <td>0.0</td>\n",
       "    </tr>\n",
       "    <tr>\n",
       "      <th>28018</th>\n",
       "      <td>NaN</td>\n",
       "      <td>NaN</td>\n",
       "      <td>NaN</td>\n",
       "      <td>NaN</td>\n",
       "      <td>NaN</td>\n",
       "      <td>NaN</td>\n",
       "      <td>NaN</td>\n",
       "      <td>NaN</td>\n",
       "      <td>NaN</td>\n",
       "      <td>NaN</td>\n",
       "      <td>...</td>\n",
       "      <td>NaN</td>\n",
       "      <td>0.0</td>\n",
       "      <td>1.0</td>\n",
       "      <td>0.0</td>\n",
       "      <td>0.0</td>\n",
       "      <td>0.0</td>\n",
       "      <td>1.0</td>\n",
       "      <td>0.0</td>\n",
       "      <td>0.0</td>\n",
       "      <td>0.0</td>\n",
       "    </tr>\n",
       "    <tr>\n",
       "      <th>28019</th>\n",
       "      <td>NaN</td>\n",
       "      <td>NaN</td>\n",
       "      <td>NaN</td>\n",
       "      <td>NaN</td>\n",
       "      <td>NaN</td>\n",
       "      <td>NaN</td>\n",
       "      <td>NaN</td>\n",
       "      <td>NaN</td>\n",
       "      <td>NaN</td>\n",
       "      <td>NaN</td>\n",
       "      <td>...</td>\n",
       "      <td>NaN</td>\n",
       "      <td>0.0</td>\n",
       "      <td>1.0</td>\n",
       "      <td>0.0</td>\n",
       "      <td>0.0</td>\n",
       "      <td>0.0</td>\n",
       "      <td>0.0</td>\n",
       "      <td>0.0</td>\n",
       "      <td>1.0</td>\n",
       "      <td>0.0</td>\n",
       "    </tr>\n",
       "    <tr>\n",
       "      <th>28020</th>\n",
       "      <td>NaN</td>\n",
       "      <td>NaN</td>\n",
       "      <td>NaN</td>\n",
       "      <td>NaN</td>\n",
       "      <td>NaN</td>\n",
       "      <td>NaN</td>\n",
       "      <td>NaN</td>\n",
       "      <td>NaN</td>\n",
       "      <td>NaN</td>\n",
       "      <td>NaN</td>\n",
       "      <td>...</td>\n",
       "      <td>NaN</td>\n",
       "      <td>0.0</td>\n",
       "      <td>1.0</td>\n",
       "      <td>0.0</td>\n",
       "      <td>0.0</td>\n",
       "      <td>0.0</td>\n",
       "      <td>1.0</td>\n",
       "      <td>0.0</td>\n",
       "      <td>0.0</td>\n",
       "      <td>0.0</td>\n",
       "    </tr>\n",
       "    <tr>\n",
       "      <th>28021</th>\n",
       "      <td>NaN</td>\n",
       "      <td>NaN</td>\n",
       "      <td>NaN</td>\n",
       "      <td>NaN</td>\n",
       "      <td>NaN</td>\n",
       "      <td>NaN</td>\n",
       "      <td>NaN</td>\n",
       "      <td>NaN</td>\n",
       "      <td>NaN</td>\n",
       "      <td>NaN</td>\n",
       "      <td>...</td>\n",
       "      <td>NaN</td>\n",
       "      <td>0.0</td>\n",
       "      <td>0.0</td>\n",
       "      <td>0.0</td>\n",
       "      <td>1.0</td>\n",
       "      <td>0.0</td>\n",
       "      <td>0.0</td>\n",
       "      <td>0.0</td>\n",
       "      <td>1.0</td>\n",
       "      <td>0.0</td>\n",
       "    </tr>\n",
       "  </tbody>\n",
       "</table>\n",
       "<p>56044 rows × 50 columns</p>\n",
       "</div>"
      ],
      "text/plain": [
       "       host_response_rate  host_acceptance_rate host_is_superhost  \\\n",
       "0                0.800000              0.170000             False   \n",
       "1                0.090000              0.690000             False   \n",
       "2                1.000000              0.250000             False   \n",
       "3                1.000000              1.000000             False   \n",
       "4                0.890731              0.768297             False   \n",
       "...                   ...                   ...               ...   \n",
       "28017                 NaN                   NaN               NaN   \n",
       "28018                 NaN                   NaN               NaN   \n",
       "28019                 NaN                   NaN               NaN   \n",
       "28020                 NaN                   NaN               NaN   \n",
       "28021                 NaN                   NaN               NaN   \n",
       "\n",
       "       host_listings_count  host_total_listings_count host_has_profile_pic  \\\n",
       "0                      8.0                        8.0                 True   \n",
       "1                      1.0                        1.0                 True   \n",
       "2                      1.0                        1.0                 True   \n",
       "3                      1.0                        1.0                 True   \n",
       "4                      1.0                        1.0                 True   \n",
       "...                    ...                        ...                  ...   \n",
       "28017                  NaN                        NaN                  NaN   \n",
       "28018                  NaN                        NaN                  NaN   \n",
       "28019                  NaN                        NaN                  NaN   \n",
       "28020                  NaN                        NaN                  NaN   \n",
       "28021                  NaN                        NaN                  NaN   \n",
       "\n",
       "      host_identity_verified  accommodates  bathrooms  bedrooms  ...  \\\n",
       "0                       True           1.0        1.0  1.323567  ...   \n",
       "1                       True           3.0        1.0  1.000000  ...   \n",
       "2                       True           4.0        1.5  2.000000  ...   \n",
       "3                      False           2.0        1.0  1.000000  ...   \n",
       "4                       True           1.0        1.0  1.000000  ...   \n",
       "...                      ...           ...        ...       ...  ...   \n",
       "28017                    NaN           NaN        NaN       NaN  ...   \n",
       "28018                    NaN           NaN        NaN       NaN  ...   \n",
       "28019                    NaN           NaN        NaN       NaN  ...   \n",
       "28020                    NaN           NaN        NaN       NaN  ...   \n",
       "28021                    NaN           NaN        NaN       NaN  ...   \n",
       "\n",
       "       n_host_verifications  neighbourhood_group_cleansed_Bronx  \\\n",
       "0                       9.0                                 NaN   \n",
       "1                       6.0                                 NaN   \n",
       "2                       3.0                                 NaN   \n",
       "3                       4.0                                 NaN   \n",
       "4                       7.0                                 NaN   \n",
       "...                     ...                                 ...   \n",
       "28017                   NaN                                 0.0   \n",
       "28018                   NaN                                 0.0   \n",
       "28019                   NaN                                 0.0   \n",
       "28020                   NaN                                 0.0   \n",
       "28021                   NaN                                 0.0   \n",
       "\n",
       "       neighbourhood_group_cleansed_Brooklyn  \\\n",
       "0                                        NaN   \n",
       "1                                        NaN   \n",
       "2                                        NaN   \n",
       "3                                        NaN   \n",
       "4                                        NaN   \n",
       "...                                      ...   \n",
       "28017                                    0.0   \n",
       "28018                                    1.0   \n",
       "28019                                    1.0   \n",
       "28020                                    1.0   \n",
       "28021                                    0.0   \n",
       "\n",
       "       neighbourhood_group_cleansed_Manhattan  \\\n",
       "0                                         NaN   \n",
       "1                                         NaN   \n",
       "2                                         NaN   \n",
       "3                                         NaN   \n",
       "4                                         NaN   \n",
       "...                                       ...   \n",
       "28017                                     0.0   \n",
       "28018                                     0.0   \n",
       "28019                                     0.0   \n",
       "28020                                     0.0   \n",
       "28021                                     0.0   \n",
       "\n",
       "       neighbourhood_group_cleansed_Queens  \\\n",
       "0                                      NaN   \n",
       "1                                      NaN   \n",
       "2                                      NaN   \n",
       "3                                      NaN   \n",
       "4                                      NaN   \n",
       "...                                    ...   \n",
       "28017                                  1.0   \n",
       "28018                                  0.0   \n",
       "28019                                  0.0   \n",
       "28020                                  0.0   \n",
       "28021                                  1.0   \n",
       "\n",
       "       neighbourhood_group_cleansed_Staten Island  room_type_Entire home/apt  \\\n",
       "0                                             NaN                        NaN   \n",
       "1                                             NaN                        NaN   \n",
       "2                                             NaN                        NaN   \n",
       "3                                             NaN                        NaN   \n",
       "4                                             NaN                        NaN   \n",
       "...                                           ...                        ...   \n",
       "28017                                         0.0                        0.0   \n",
       "28018                                         0.0                        1.0   \n",
       "28019                                         0.0                        0.0   \n",
       "28020                                         0.0                        1.0   \n",
       "28021                                         0.0                        0.0   \n",
       "\n",
       "       room_type_Hotel room  room_type_Private room  room_type_Shared room  \n",
       "0                       NaN                     NaN                    NaN  \n",
       "1                       NaN                     NaN                    NaN  \n",
       "2                       NaN                     NaN                    NaN  \n",
       "3                       NaN                     NaN                    NaN  \n",
       "4                       NaN                     NaN                    NaN  \n",
       "...                     ...                     ...                    ...  \n",
       "28017                   0.0                     1.0                    0.0  \n",
       "28018                   0.0                     0.0                    0.0  \n",
       "28019                   0.0                     1.0                    0.0  \n",
       "28020                   0.0                     0.0                    0.0  \n",
       "28021                   0.0                     1.0                    0.0  \n",
       "\n",
       "[56044 rows x 50 columns]"
      ]
     },
     "execution_count": 14,
     "metadata": {},
     "output_type": "execute_result"
    }
   ],
   "source": [
    "pd.concat([df, df_enc])"
   ]
  },
  {
   "cell_type": "markdown",
   "metadata": {},
   "source": [
    "Glance at the resulting column names:"
   ]
  },
  {
   "cell_type": "code",
   "execution_count": 15,
   "metadata": {},
   "outputs": [
    {
     "data": {
      "text/plain": [
       "Index(['host_response_rate', 'host_acceptance_rate', 'host_is_superhost',\n",
       "       'host_listings_count', 'host_total_listings_count',\n",
       "       'host_has_profile_pic', 'host_identity_verified', 'accommodates',\n",
       "       'bathrooms', 'bedrooms', 'beds', 'price', 'minimum_nights',\n",
       "       'maximum_nights', 'minimum_minimum_nights', 'maximum_minimum_nights',\n",
       "       'minimum_maximum_nights', 'maximum_maximum_nights',\n",
       "       'minimum_nights_avg_ntm', 'maximum_nights_avg_ntm', 'has_availability',\n",
       "       'availability_30', 'availability_60', 'availability_90',\n",
       "       'availability_365', 'number_of_reviews', 'number_of_reviews_ltm',\n",
       "       'number_of_reviews_l30d', 'review_scores_rating',\n",
       "       'review_scores_cleanliness', 'review_scores_checkin',\n",
       "       'review_scores_communication', 'review_scores_location',\n",
       "       'review_scores_value', 'instant_bookable',\n",
       "       'calculated_host_listings_count',\n",
       "       'calculated_host_listings_count_entire_homes',\n",
       "       'calculated_host_listings_count_private_rooms',\n",
       "       'calculated_host_listings_count_shared_rooms', 'reviews_per_month',\n",
       "       'n_host_verifications'],\n",
       "      dtype='object')"
      ]
     },
     "execution_count": 15,
     "metadata": {},
     "output_type": "execute_result"
    }
   ],
   "source": [
    "df.columns"
   ]
  },
  {
   "cell_type": "markdown",
   "metadata": {},
   "source": [
    "## Part 3. Create Labeled Examples from the Data Set "
   ]
  },
  {
   "cell_type": "markdown",
   "metadata": {},
   "source": [
    "<b>Task</b>: Obtain the feature columns from DataFrame `df` and assign to `X`. Obtain the label column from DataFrame `df` and assign to `y`.\n"
   ]
  },
  {
   "cell_type": "code",
   "execution_count": 16,
   "metadata": {},
   "outputs": [
    {
     "data": {
      "text/plain": [
       "0        False\n",
       "1        False\n",
       "2        False\n",
       "3        False\n",
       "4        False\n",
       "         ...  \n",
       "28017    False\n",
       "28018    False\n",
       "28019     True\n",
       "28020     True\n",
       "28021    False\n",
       "Name: host_is_superhost, Length: 28022, dtype: bool"
      ]
     },
     "execution_count": 16,
     "metadata": {},
     "output_type": "execute_result"
    }
   ],
   "source": [
    "X = df.drop(labels = 'host_is_superhost', axis=1)\n",
    "y = df['host_is_superhost']\n",
    "y"
   ]
  },
  {
   "cell_type": "code",
   "execution_count": 17,
   "metadata": {},
   "outputs": [
    {
     "name": "stdout",
     "output_type": "stream",
     "text": [
      "Number of examples: 28022\n",
      "\n",
      "Number of Features:40\n",
      "['host_response_rate', 'host_acceptance_rate', 'host_listings_count', 'host_total_listings_count', 'host_has_profile_pic', 'host_identity_verified', 'accommodates', 'bathrooms', 'bedrooms', 'beds', 'price', 'minimum_nights', 'maximum_nights', 'minimum_minimum_nights', 'maximum_minimum_nights', 'minimum_maximum_nights', 'maximum_maximum_nights', 'minimum_nights_avg_ntm', 'maximum_nights_avg_ntm', 'has_availability', 'availability_30', 'availability_60', 'availability_90', 'availability_365', 'number_of_reviews', 'number_of_reviews_ltm', 'number_of_reviews_l30d', 'review_scores_rating', 'review_scores_cleanliness', 'review_scores_checkin', 'review_scores_communication', 'review_scores_location', 'review_scores_value', 'instant_bookable', 'calculated_host_listings_count', 'calculated_host_listings_count_entire_homes', 'calculated_host_listings_count_private_rooms', 'calculated_host_listings_count_shared_rooms', 'reviews_per_month', 'n_host_verifications']\n"
     ]
    }
   ],
   "source": [
    "print(\"Number of examples: \" + str(X.shape[0]))\n",
    "print(\"\\nNumber of Features:\" + str(X.shape[1]))\n",
    "print(str(list(X.columns)))"
   ]
  },
  {
   "cell_type": "markdown",
   "metadata": {},
   "source": [
    "## Part 4. Create Training and Test Data Sets"
   ]
  },
  {
   "cell_type": "markdown",
   "metadata": {},
   "source": [
    "<b>Task</b>: In the code cell below create training and test sets out of the labeled examples using Scikit-learn's `train_test_split()` function. Save the results to variables `X_train, X_test, y_train, y_test`.\n",
    "\n",
    "Specify:\n",
    "1. A test set that is one third (.33) of the size of the data set.\n",
    "2. A seed value of '123'. "
   ]
  },
  {
   "cell_type": "code",
   "execution_count": 18,
   "metadata": {},
   "outputs": [],
   "source": [
    "X_train, X_test, y_train, y_test = train_test_split(X, y, test_size = 0.33, random_state = 123)"
   ]
  },
  {
   "cell_type": "markdown",
   "metadata": {},
   "source": [
    "<b>Task</b>: Check the dimensions of the training and test datasets."
   ]
  },
  {
   "cell_type": "code",
   "execution_count": 19,
   "metadata": {},
   "outputs": [
    {
     "name": "stdout",
     "output_type": "stream",
     "text": [
      "(18774, 40)\n",
      "(9248, 40)\n"
     ]
    }
   ],
   "source": [
    "print(X_train.shape)\n",
    "print(X_test.shape)"
   ]
  },
  {
   "cell_type": "markdown",
   "metadata": {},
   "source": [
    "## Part 5. Train Decision Tree Classifers and Evaluate their Performances"
   ]
  },
  {
   "cell_type": "markdown",
   "metadata": {},
   "source": [
    "The code cell below contains a function definition named `train_test_DT()`. This function should:\n",
    "1. train a Decision Tree classifier on the training data (Remember to use ```DecisionTreeClassifier()``` to create a model object.)\n",
    "2. test the resulting model on the test data\n",
    "3. compute and return the accuracy score of the resulting predicted class labels on the test data. \n",
    "\n",
    "<b>Task:</b> Complete the function to make it work."
   ]
  },
  {
   "cell_type": "code",
   "execution_count": 20,
   "metadata": {},
   "outputs": [],
   "source": [
    "def train_test_DT(X_train, X_test, y_train, y_test, depth, leaf=1, crit='entropy'):\n",
    "\n",
    "    model = DecisionTreeClassifier(criterion = crit, max_depth = depth, min_samples_leaf = leaf)\n",
    "    model.fit(X_train, y_train)\n",
    "    \n",
    "    label_predictions = model.predict(X_test)\n",
    "    \n",
    "    acc = accuracy_score(y_test, label_predictions)\n",
    "    return acc"
   ]
  },
  {
   "cell_type": "markdown",
   "metadata": {},
   "source": [
    "#### Train Two Decision Trees and Evaluate Their Performances"
   ]
  },
  {
   "cell_type": "markdown",
   "metadata": {},
   "source": [
    "<b>Task:</b> Use your function to train two different decision trees, one with a max depth of $8$ and one with a max depth of $32$. Print the max depth and corresponding accuracy score."
   ]
  },
  {
   "cell_type": "code",
   "execution_count": 21,
   "metadata": {},
   "outputs": [
    {
     "name": "stdout",
     "output_type": "stream",
     "text": [
      "0.8328287197231834\n",
      "0.8054714532871973\n"
     ]
    }
   ],
   "source": [
    "max_depth = [8, 32]\n",
    "acc = []\n",
    "\n",
    "for depth in max_depth:\n",
    "    val = train_test_DT(X_train, X_test, y_train, y_test, depth)\n",
    "    print(val)\n",
    "    acc.append(val)"
   ]
  },
  {
   "cell_type": "markdown",
   "metadata": {},
   "source": [
    "#### Visualize Accuracy"
   ]
  },
  {
   "cell_type": "markdown",
   "metadata": {},
   "source": [
    "We will be creating multiple visualizations that plot a specific model's hyperparameter value (such as max depth) and the resulting accuracy score of the model.\n",
    "\n",
    "To create more clean and maintainable code, we will create one visualization function that can be called every time a plot is needed. \n",
    "\n",
    "<b>Task:</b> In the code cell below, create a function called `visualize_accuracy()` that accepts two arguments:\n",
    "\n",
    "1. a list of hyperparamter values\n",
    "2. a list of accuracy scores\n",
    "\n",
    "Both lists must be of the same size.\n",
    "\n",
    "Inside the function, implement a `seaborn` lineplot in which hyperparameter values will be on the x-axis and accuracy scores will be on the y-axis. <i>Hint</i>: You implemented a lineplot in this week's assignment."
   ]
  },
  {
   "cell_type": "code",
   "execution_count": 22,
   "metadata": {},
   "outputs": [],
   "source": [
    "def visualize_accuracy(values, acc_scores):\n",
    "    fig = plt.figure()\n",
    "    ax = fig.add_subplot(111)\n",
    "    \n",
    "    sns.lineplot(x=values, y=acc_scores)\n",
    "\n",
    "\n",
    "    plt.title('K-Value vs Accuracy Scores')\n",
    "    ax.set_xlabel('k')\n",
    "    ax.set_ylabel('Accuracy')\n",
    "    plt.show()"
   ]
  },
  {
   "cell_type": "markdown",
   "metadata": {},
   "source": [
    "<b>Task</b>: Test your visualization function below by calling the function to plot the max depth values and accuracy scores of the two decision trees that you just trained."
   ]
  },
  {
   "cell_type": "code",
   "execution_count": 24,
   "metadata": {},
   "outputs": [
    {
     "data": {
      "image/png": "[encoded data removed]",
      "text/plain": [
       "<Figure size 432x288 with 1 Axes>"
      ]
     },
     "metadata": {
      "needs_background": "light"
     },
     "output_type": "display_data"
    }
   ],
   "source": [
    "visualize_accuracy(max_depth, acc)"
   ]
  },
  {
   "cell_type": "markdown",
   "metadata": {},
   "source": [
    "<b>Analysis</b>: Does this graph provide a sufficient visualization for determining a value of max depth that produces a high performing model?"
   ]
  },
  {
   "cell_type": "markdown",
   "metadata": {},
   "source": [
    "No, we have not tested enough max_depth values to get a proper sense of its optimal value. We have only tested two extreme values and would need to look at several values between the two we have tested."
   ]
  },
  {
   "cell_type": "markdown",
   "metadata": {},
   "source": [
    "#### Train Multiple Decision Trees Using Different Hyperparameter Values and Evaluate Their Performances"
   ]
  },
  {
   "cell_type": "markdown",
   "metadata": {},
   "source": [
    "<b>Task:</b> Let's train on more values for max depth.\n",
    "\n",
    "1. Train six different decision trees, using the following values for max depth: $1, 2, 4, 8, 16, 32$\n",
    "2. Use your visualization function to plot the values of max depth and each model's resulting accuracy score."
   ]
  },
  {
   "cell_type": "code",
   "execution_count": 25,
   "metadata": {},
   "outputs": [
    {
     "name": "stdout",
     "output_type": "stream",
     "text": [
      "0.7563797577854672\n",
      "0.7563797577854672\n",
      "0.810878027681661\n",
      "0.8333693771626297\n",
      "0.8169333910034602\n",
      "0.8040657439446367\n"
     ]
    },
    {
     "data": {
      "image/png": "[encoded data removed]",
      "text/plain": [
       "<Figure size 432x288 with 1 Axes>"
      ]
     },
     "metadata": {
      "needs_background": "light"
     },
     "output_type": "display_data"
    },
    {
     "name": "stdout",
     "output_type": "stream",
     "text": [
      "0.8326124567474048\n",
      "0.8329368512110726\n",
      "0.8319636678200693\n",
      "0.832288062283737\n",
      "0.8332612456747405\n",
      "0.8336937716262975\n",
      "0.8336937716262975\n",
      "0.8331531141868512\n",
      "0.8328287197231834\n",
      "0.832288062283737\n",
      "0.8328287197231834\n",
      "0.8343425605536332\n",
      "0.8327205882352942\n"
     ]
    },
    {
     "data": {
      "image/png": "[encoded data removed]",
      "text/plain": [
       "<Figure size 432x288 with 1 Axes>"
      ]
     },
     "metadata": {
      "needs_background": "light"
     },
     "output_type": "display_data"
    }
   ],
   "source": [
    "max_depth = [1,2,4,8,16,32]\n",
    "acc_tree = []\n",
    "\n",
    "for depth in max_depth:\n",
    "    val = train_test_DT(X_train, X_test, y_train, y_test, depth)\n",
    "    print(val)\n",
    "    acc_tree.append(val)\n",
    "    \n",
    "visualize_accuracy(max_depth, acc_tree)\n",
    "\n",
    "\n",
    "leaves_2 = [1,2,4,8,10,12,14,16,18,20,22,24,26]\n",
    "acc_tree = []\n",
    "acc_tree=[]\n",
    "for leaf in leaves_2:\n",
    "    val = train_test_DT(X_train, X_test, y_train, y_test, depth=8, leaf = leaf)\n",
    "    print(val)\n",
    "    acc_tree.append(val)\n",
    "    \n",
    "visualize_accuracy(leaves_2, acc_tree)"
   ]
  },
  {
   "cell_type": "markdown",
   "metadata": {},
   "source": [
    "<b>Analysis</b>: Analyze this graph. Pay attention to the accuracy scores. Answer the following questions in the cell below.<br>\n",
    "\n",
    "How would you go about choosing the best model configuration based on this plot? <br>\n",
    "What other hyperparameters of interest would you want to tune to make sure you are finding the best performing model?"
   ]
  },
  {
   "cell_type": "markdown",
   "metadata": {},
   "source": [
    "1. In order to choose the best max_depth value, I would examine more values near the peak of the above graph. The accuracy scores seem to peak at around a max_depth value of 8. I would test more values around 8 to find the value that provides the highest accuracy score and use that for model configuration.\n",
    "2. I would also experiment with different values for the min_samples_leaf parameter and min_samples_split."
   ]
  },
  {
   "cell_type": "markdown",
   "metadata": {},
   "source": [
    "## Part 6. Train KNN Classifiers and Evaluate their Performances\n"
   ]
  },
  {
   "cell_type": "markdown",
   "metadata": {},
   "source": [
    "The code cell below contains function definition named `train_test_knn()`. This function should:\n",
    "1. train a KNN classifier on the training data (Remember to use ```KNeighborsClassifier()``` to create a model object).\n",
    "2. test the resulting model on the test data\n",
    "3. compute and return the accuracy score of the resulting predicted class labels on the test data. \n",
    "\n",
    "<i>Note</i>: You will train KNN classifiers using the same training and test data that you used to train decision trees.\n",
    "\n",
    "<b>Task:</b> Complete the function to make it work."
   ]
  },
  {
   "cell_type": "code",
   "execution_count": 23,
   "metadata": {},
   "outputs": [],
   "source": [
    "def train_test_knn(X_train, X_test, y_train, y_test, k, metric):\n",
    "   \n",
    "    model = KNeighborsClassifier(n_neighbors = k, metric = metric)\n",
    "    model.fit(X_train, y_train)\n",
    "    \n",
    "    label_predictions = model.predict(X_test)\n",
    "    \n",
    "    acc = accuracy_score(label_predictions, y_test)\n",
    "    return acc"
   ]
  },
  {
   "cell_type": "markdown",
   "metadata": {},
   "source": [
    "#### Train Three KNN Classifiers and Evaluate Their Performances\n",
    "\n",
    "<b>Task:</b> Use your function to train three different KNN classifiers, each with a different value for hyperparameter $k$: $3, 30$, and $300$. <i>Note</i>: This make take a second.\n"
   ]
  },
  {
   "cell_type": "code",
   "execution_count": 1,
   "metadata": {},
   "outputs": [
    {
     "ename": "NameError",
     "evalue": "name 'train_test_knn' is not defined",
     "output_type": "error",
     "traceback": [
      "\u001b[1;31m---------------------------------------------------------------------------\u001b[0m",
      "\u001b[1;31mNameError\u001b[0m                                 Traceback (most recent call last)",
      "Cell \u001b[1;32mIn[1], line 4\u001b[0m\n\u001b[0;32m      2\u001b[0m acc_knn \u001b[38;5;241m=\u001b[39m []\n\u001b[0;32m      3\u001b[0m \u001b[38;5;28;01mfor\u001b[39;00m k \u001b[38;5;129;01min\u001b[39;00m k_values:\n\u001b[1;32m----> 4\u001b[0m     val \u001b[38;5;241m=\u001b[39m \u001b[43mtrain_test_knn\u001b[49m(X_train, X_test, y_train, y_test, k)\n\u001b[0;32m      5\u001b[0m     acc_knn\u001b[38;5;241m.\u001b[39mappend(val)\n\u001b[0;32m      6\u001b[0m     \u001b[38;5;28mprint\u001b[39m(val)\n",
      "\u001b[1;31mNameError\u001b[0m: name 'train_test_knn' is not defined"
     ]
    }
   ],
   "source": [
    "k_values = [3, 30, 300]\n",
    "acc_knn = []\n",
    "for k in k_values:\n",
    "    val = train_test_knn(X_train, X_test, y_train, y_test, k)\n",
    "    acc_knn.append(val)\n",
    "    print(val)"
   ]
  },
  {
   "cell_type": "markdown",
   "metadata": {},
   "source": [
    "<b>Task:</b> Now call the function `visualize_accuracy()` with the appropriate arguments to plot the results."
   ]
  },
  {
   "cell_type": "code",
   "execution_count": null,
   "metadata": {},
   "outputs": [],
   "source": [
    "visualize_accuracy(k_values, acc_knn)"
   ]
  },
  {
   "cell_type": "markdown",
   "metadata": {},
   "source": [
    "#### Train Multiple KNN Classifiers Using Different Hyperparameter Values and Evaluate Their Performances"
   ]
  },
  {
   "cell_type": "markdown",
   "metadata": {},
   "source": [
    "<b>Task:</b> Let's train on more values for $k$.\n",
    "\n",
    "1. Array `k_range` contains multiple values for hyperparameter $k$. Train one KNN model per value of $k$\n",
    "2. Use your visualization function to plot the values of $k$ and each model's resulting accuracy score.\n",
    "\n",
    "<i>Note</i>: This make take a second."
   ]
  },
  {
   "cell_type": "code",
   "execution_count": null,
   "metadata": {},
   "outputs": [],
   "source": [
    "k_range = np.arange(1, 40, step = 3) \n",
    "k_range"
   ]
  },
  {
   "cell_type": "code",
   "execution_count": 27,
   "metadata": {},
   "outputs": [
    {
     "name": "stdout",
     "output_type": "stream",
     "text": [
      "0.7750865051903114\n",
      "0.7884948096885813\n",
      "0.7750865051903114\n",
      "0.7884948096885813\n",
      "0.7750865051903114\n",
      "0.7884948096885813\n"
     ]
    },
    {
     "data": {
      "image/png": "[encoded data removed]",
      "text/plain": [
       "<Figure size 432x288 with 1 Axes>"
      ]
     },
     "metadata": {
      "needs_background": "light"
     },
     "output_type": "display_data"
    }
   ],
   "source": [
    "distance_functions = ['minkowski', 'cityblock', 'euclidean', 'l1', 'l2', 'manhattan']\n",
    "acc_knn=[]\n",
    "for d in distance_functions:\n",
    "    val = train_test_knn(X_train, X_test, y_train, y_test, k=4, metric=d)\n",
    "    acc_knn.append(val)\n",
    "    print(val)\n",
    "visualize_accuracy(distance_functions, acc_knn)"
   ]
  },
  {
   "cell_type": "code",
   "execution_count": 30,
   "metadata": {},
   "outputs": [
    {
     "data": {
      "text/plain": [
       "0.7770328719723183"
      ]
     },
     "execution_count": 30,
     "metadata": {},
     "output_type": "execute_result"
    }
   ],
   "source": [
    "max(acc_knn)"
   ]
  },
  {
   "cell_type": "markdown",
   "metadata": {},
   "source": [
    "## Part 7. Analysis\n",
    "\n",
    "1. Compare the performance of the KNN model relative to the Decision Tree model, with various hyperparameter values. Which model performed the best (yielded the highest accuracy score)? Record your findings in the cell below.\n",
    "\n",
    "2. We tuned hyperparameter $k$ for KNNs and hyperparamter max depth for DTs. Consider other hyperparameters that can be tuned in an attempt to find the best performing model. Try a different combination of hyperparamters for both KNNs and DTs, retrain the models, obtain the accuracy scores and record your findings below. \n",
    "\n",
    "    <i>Note:</i> You can consult Scikit-learn documentation for both the [`KNeighborsClassifier`](https://scikit-learn.org/stable/modules/generated/sklearn.neighbors.KNeighborsClassifier.html) class and the [`DecisionTreeClassifier`](https://scikit-learn.org/stable/modules/generated/sklearn.tree.DecisionTreeClassifier.html) class to see how specific hyperparameters are passed as parameters to the model object."
   ]
  },
  {
   "cell_type": "markdown",
   "metadata": {},
   "source": [
    "1. The Decision Tree model with a max_depth value of 8 yielded the highest accuracy score of ~0.833. The best-performing KNN model, with a k value of 22, yieled a accuracy score (~0.777) lower than that of the best-performing Decision Tree model.\n",
    "2. We could choose to use different distance functions for the KNNs. For DTs, we could experiment with different values of min_samples_leaf and min_samples_split.\n",
    "\n",
    "KNN: k = 4\n",
    "I experimented with the following distance functions. Originally, we used the default Euclidean function. \n",
    "['minkowski', 'cityblock', 'euclidean', 'l1', 'l2', 'manhattan']\n",
    "After testing several times, the 'cityblock', 'l1' and 'manhattan' functions seemed to provide the highest accuracy score consistently. All the distance functions returned one of two accuracy scores.\n",
    "The 'euclidean', 'l2', and 'minkowski' returned the same, lower accuracy score.\n",
    "\n",
    "Decision Tree: max_depth = 8\n",
    "I experimented with the following min_samples_leaf values, with a fixed depth of 8:\n",
    "[1,2,4,8,10,12,14,16,18,20,22,24,26]\n",
    "After running and plotting the functions a few times, the min_sample_leaf value of 24 seemed to provide the highest accuracy score. "
   ]
  }
 ],
 "metadata": {
  "kernelspec": {
   "display_name": "Python 3",
   "language": "python",
   "name": "python3"
  },
  "language_info": {
   "codemirror_mode": {
    "name": "ipython",
    "version": 3
   },
   "file_extension": ".py",
   "mimetype": "text/x-python",
   "name": "python",
   "nbconvert_exporter": "python",
   "pygments_lexer": "ipython3",
   "version": "3.11.9"
  },
  "toc": {
   "base_numbering": 1,
   "nav_menu": {},
   "number_sections": false,
   "sideBar": true,
   "skip_h1_title": false,
   "title_cell": "Table of Contents",
   "title_sidebar": "Contents",
   "toc_cell": false,
   "toc_position": {},
   "toc_section_display": true,
   "toc_window_display": false
  },
  "varInspector": {
   "cols": {
    "lenName": 16,
    "lenType": 16,
    "lenVar": 40
   },
   "kernels_config": {
    "python": {
     "delete_cmd_postfix": "",
     "delete_cmd_prefix": "del ",
     "library": "var_list.py",
     "varRefreshCmd": "print(var_dic_list())"
    },
    "r": {
     "delete_cmd_postfix": ") ",
     "delete_cmd_prefix": "rm(",
     "library": "var_list.r",
     "varRefreshCmd": "cat(var_dic_list()) "
    }
   },
   "types_to_exclude": [
    "module",
    "function",
    "builtin_function_or_method",
    "instance",
    "_Feature"
   ],
   "window_display": false
  }
 },
 "nbformat": 4,
 "nbformat_minor": 2
}
